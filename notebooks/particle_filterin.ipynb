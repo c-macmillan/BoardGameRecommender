{
 "cells": [
  {
   "cell_type": "code",
   "execution_count": 117,
   "metadata": {},
   "outputs": [],
   "source": [
    "from neo4j import GraphDatabase, basic_auth, graph\n",
    "from graphdatascience import GraphDataScience"
   ]
  },
  {
   "cell_type": "code",
   "execution_count": 42,
   "metadata": {},
   "outputs": [],
   "source": [
    "password = \"gcQaNwpk8pm7ADaRn-voK0CoKfibXRWprD00t_qvnMs\"\n",
    "user_name = \"neo4j\"\n",
    "url = \"neo4j+s://316a244c.databases.neo4j.io:7687\""
   ]
  },
  {
   "cell_type": "code",
   "execution_count": 43,
   "metadata": {},
   "outputs": [],
   "source": [
    "driver = GraphDatabase.driver(url, auth=(user_name, password))"
   ]
  },
  {
   "cell_type": "code",
   "execution_count": 74,
   "metadata": {},
   "outputs": [],
   "source": [
    "def find_game(game_name):\n",
    "    with driver.session(database=\"neo4j\") as session:\n",
    "        result = session.execute_read(_find_and_return_game, game_name)\n",
    "        for row in result:\n",
    "            print(\"Found game: {row}\".format(row=row))\n",
    "\n",
    "def find_neighbors(node_id):\n",
    "    with driver.session(database='neo4j') as session:\n",
    "        result = session.execute_read(_find_neighbors, node_id)\n",
    "        print(len(result))\n",
    "        for row in result:\n",
    "            print(row)\n",
    "\n",
    "def collect_starting_nodes(node_id_list):\n",
    "    with driver.session(database='neo4j') as session:\n",
    "        result = session.execute_read(_collect_starting_nodes, node_id_list)\n",
    "        return result\n",
    "    \n",
    "\n",
    "\n",
    "\n",
    "@staticmethod\n",
    "def _collect_starting_nodes(tx, node_id_list):\n",
    "    query = (\n",
    "        \"\"\"\n",
    "        MATCH (n)\n",
    "        WHERE n.id IN $node_id_list\n",
    "        RETURN collect(n)\n",
    "        \"\"\"\n",
    "    )\n",
    "    result = tx.run(query, node_id_list=node_id_list)\n",
    "    return result\n",
    "\n",
    "\n",
    "@staticmethod\n",
    "def _find_neighbors(tx, node_id):\n",
    "    query = (\n",
    "        \"\"\"\n",
    "        MATCH (n)-[r]-(m)\n",
    "        WHERE n.id = $node_id\n",
    "        RETURN collect(r)\n",
    "        \"\"\"\n",
    "    )\n",
    "    result = tx.run(query, node_id=node_id)\n",
    "    return [row for row in result]\n",
    "\n",
    "\n",
    "@staticmethod\n",
    "def _find_and_return_game(tx, game_name):\n",
    "    query = (\n",
    "        \"MATCH (g:Game) \"\n",
    "        \"WHERE g.name = $game_name \"\n",
    "        \"RETURN g\"\n",
    "    )\n",
    "    result = tx.run(query, game_name=game_name)\n",
    "    return [row for row in result]\n"
   ]
  },
  {
   "cell_type": "code",
   "execution_count": 45,
   "metadata": {},
   "outputs": [
    {
     "name": "stderr",
     "output_type": "stream",
     "text": [
      "Unable to retrieve routing information\n",
      "Transaction failed and will be retried in 1.0442512683029215s (Unable to retrieve routing information)\n",
      "Unable to retrieve routing information\n",
      "Transaction failed and will be retried in 2.2328492776514546s (Unable to retrieve routing information)\n",
      "Unable to retrieve routing information\n",
      "Transaction failed and will be retried in 3.434040436021425s (Unable to retrieve routing information)\n"
     ]
    },
    {
     "name": "stdout",
     "output_type": "stream",
     "text": [
      "Found game: <Record g=<Node element_id='4:9c53e395-6e8b-4c0a-a50c-db53ec14015f:69' labels=frozenset({'Game'}) properties={'short_description': 'Artfully embellish the walls of your palace by drafting the most beautiful tiles.', 'image_url': 'https://cf.geekdo-images.com/aPSHJO0d0XOpQR5X-wJonw__original/img/AkbtYVc6xXJF3c9EUrakklcclKw=/0x0/filters:format(png)/pic6973671.png', 'min_play_time': 30.0, 'expected_play_time': 45.0, 'long_description': \"Introduced by the Moors, azuleijos (originally white and blue ceramic tiles) were fully embraced by the Portuguese when their king Manuel I, on a visit to the Alhambra palace in Southern Spain, was mesmerized by the stunning beauty of the Moorish decorative tiles. The king, awestruck by the interior beauty of the Alhambra, immediately ordered that his own palace in Portugal be decorated with similar wall tiles. As a tile-laying artist, you have been challenged to embellish the walls of the Royal Palace of Evora.&#10;&#10;In the game Azul, players take turns drafting colored tiles from suppliers to their player board. Later in the round, players score points based on how they've placed their tiles to decorate the palace. Extra points are scored for specific patterns and completing sets; wasted supplies harm the player's score. The player with the most points at the end of the game wins.&#10;&#10;\", 'thumbnail_url': 'https://cf.geekdo-images.com/aPSHJO0d0XOpQR5X-wJonw__micro/img/3M2bj5ZXqAskTOvLTXRuHOH-Y44=/fit-in/64x64/filters:strip_icc()/pic6973671.png', 'complexity_socre': 1.7604, 'num_ratings': 78474, 'avg_rating': 7.76, 'max_play_time': 45.0, 'name': 'Azul', 'rank': 70, 'id': 230802, 'year_published': 2017.0}>>\n"
     ]
    }
   ],
   "source": [
    "find_game(\"Azul\")"
   ]
  },
  {
   "cell_type": "code",
   "execution_count": 46,
   "metadata": {},
   "outputs": [
    {
     "name": "stdout",
     "output_type": "stream",
     "text": [
      "1\n",
      "<Record collect(r)=[<Relationship element_id='5:9c53e395-6e8b-4c0a-a50c-db53ec14015f:1521' nodes=(<Node element_id='4:9c53e395-6e8b-4c0a-a50c-db53ec14015f:311' labels=frozenset() properties={}>, <Node element_id='4:9c53e395-6e8b-4c0a-a50c-db53ec14015f:1050' labels=frozenset() properties={}>) type='hasMechanic' properties={'weight': 0.2}>, <Relationship element_id='5:9c53e395-6e8b-4c0a-a50c-db53ec14015f:615' nodes=(<Node element_id='4:9c53e395-6e8b-4c0a-a50c-db53ec14015f:63' labels=frozenset() properties={}>, <Node element_id='4:9c53e395-6e8b-4c0a-a50c-db53ec14015f:1050' labels=frozenset() properties={}>) type='hasMechanic' properties={'weight': 0.1}>, <Relationship element_id='5:9c53e395-6e8b-4c0a-a50c-db53ec14015f:1698' nodes=(<Node element_id='4:9c53e395-6e8b-4c0a-a50c-db53ec14015f:371' labels=frozenset() properties={}>, <Node element_id='4:9c53e395-6e8b-4c0a-a50c-db53ec14015f:1050' labels=frozenset() properties={}>) type='hasMechanic' properties={'weight': 0.2}>, <Relationship element_id='5:9c53e395-6e8b-4c0a-a50c-db53ec14015f:777' nodes=(<Node element_id='4:9c53e395-6e8b-4c0a-a50c-db53ec14015f:83' labels=frozenset() properties={}>, <Node element_id='4:9c53e395-6e8b-4c0a-a50c-db53ec14015f:1050' labels=frozenset() properties={}>) type='hasMechanic' properties={'weight': 0.08333333333333333}>, <Relationship element_id='5:9c53e395-6e8b-4c0a-a50c-db53ec14015f:2296' nodes=(<Node element_id='4:9c53e395-6e8b-4c0a-a50c-db53ec14015f:649' labels=frozenset() properties={}>, <Node element_id='4:9c53e395-6e8b-4c0a-a50c-db53ec14015f:1050' labels=frozenset() properties={}>) type='hasMechanic' properties={'weight': 0.1111111111111111}>, <Relationship element_id='5:9c53e395-6e8b-4c0a-a50c-db53ec14015f:84' nodes=(<Node element_id='4:9c53e395-6e8b-4c0a-a50c-db53ec14015f:6' labels=frozenset() properties={}>, <Node element_id='4:9c53e395-6e8b-4c0a-a50c-db53ec14015f:1050' labels=frozenset() properties={}>) type='hasMechanic' properties={'weight': 0.058823529411764705}>, <Relationship element_id='5:9c53e395-6e8b-4c0a-a50c-db53ec14015f:862' nodes=(<Node element_id='4:9c53e395-6e8b-4c0a-a50c-db53ec14015f:94' labels=frozenset() properties={}>, <Node element_id='4:9c53e395-6e8b-4c0a-a50c-db53ec14015f:1050' labels=frozenset() properties={}>) type='hasMechanic' properties={'weight': 0.16666666666666666}>, <Relationship element_id='5:9c53e395-6e8b-4c0a-a50c-db53ec14015f:2741' nodes=(<Node element_id='4:9c53e395-6e8b-4c0a-a50c-db53ec14015f:905' labels=frozenset() properties={}>, <Node element_id='4:9c53e395-6e8b-4c0a-a50c-db53ec14015f:1050' labels=frozenset() properties={}>) type='hasMechanic' properties={'weight': 0.14285714285714285}>, <Relationship element_id='5:9c53e395-6e8b-4c0a-a50c-db53ec14015f:2349' nodes=(<Node element_id='4:9c53e395-6e8b-4c0a-a50c-db53ec14015f:670' labels=frozenset() properties={}>, <Node element_id='4:9c53e395-6e8b-4c0a-a50c-db53ec14015f:1050' labels=frozenset() properties={}>) type='hasMechanic' properties={'weight': 0.16666666666666666}>, <Relationship element_id='5:9c53e395-6e8b-4c0a-a50c-db53ec14015f:320' nodes=(<Node element_id='4:9c53e395-6e8b-4c0a-a50c-db53ec14015f:27' labels=frozenset() properties={}>, <Node element_id='4:9c53e395-6e8b-4c0a-a50c-db53ec14015f:1050' labels=frozenset() properties={}>) type='hasMechanic' properties={'weight': 0.09090909090909091}>, <Relationship element_id='5:9c53e395-6e8b-4c0a-a50c-db53ec14015f:2228' nodes=(<Node element_id='4:9c53e395-6e8b-4c0a-a50c-db53ec14015f:610' labels=frozenset() properties={}>, <Node element_id='4:9c53e395-6e8b-4c0a-a50c-db53ec14015f:1050' labels=frozenset() properties={}>) type='hasMechanic' properties={'weight': 0.14285714285714285}>, <Relationship element_id='5:9c53e395-6e8b-4c0a-a50c-db53ec14015f:746' nodes=(<Node element_id='4:9c53e395-6e8b-4c0a-a50c-db53ec14015f:80' labels=frozenset() properties={}>, <Node element_id='4:9c53e395-6e8b-4c0a-a50c-db53ec14015f:1050' labels=frozenset() properties={}>) type='hasMechanic' properties={'weight': 0.0625}>, <Relationship element_id='5:9c53e395-6e8b-4c0a-a50c-db53ec14015f:1836' nodes=(<Node element_id='4:9c53e395-6e8b-4c0a-a50c-db53ec14015f:430' labels=frozenset() properties={}>, <Node element_id='4:9c53e395-6e8b-4c0a-a50c-db53ec14015f:1050' labels=frozenset() properties={}>) type='hasMechanic' properties={'weight': 0.125}>, <Relationship element_id='5:9c53e395-6e8b-4c0a-a50c-db53ec14015f:19' nodes=(<Node element_id='4:9c53e395-6e8b-4c0a-a50c-db53ec14015f:2' labels=frozenset() properties={}>, <Node element_id='4:9c53e395-6e8b-4c0a-a50c-db53ec14015f:1050' labels=frozenset() properties={}>) type='hasMechanic' properties={'weight': 0.047619047619047616}>]>\n"
     ]
    }
   ],
   "source": [
    "find_neighbors(\"Action Queue\")"
   ]
  },
  {
   "cell_type": "code",
   "execution_count": 75,
   "metadata": {},
   "outputs": [
    {
     "data": {
      "text/plain": [
       "<neo4j._sync.work.result.Result at 0x7efcef8165f0>"
      ]
     },
     "execution_count": 75,
     "metadata": {},
     "output_type": "execute_result"
    }
   ],
   "source": [
    "collect_starting_nodes([\"Action Queue\", \"Hand Management\", \"Rio Grande Games\"])"
   ]
  },
  {
   "attachments": {},
   "cell_type": "markdown",
   "metadata": {},
   "source": [
    "Particle Filtering Algorithm\n",
    "1. User specifies which nodes to find (probably using dropdown selection of node types)\n",
    "2. Get a collection of those starting nodes\n",
    "3. Set hyperparameters for RestartProbability (c) and Threshold ($\\tau$)\n",
    "4. Initialize Particles (p)\n",
    "5. While there are non-zero particles:\n",
    "    - "
   ]
  },
  {
   "cell_type": "code",
   "execution_count": 288,
   "metadata": {},
   "outputs": [],
   "source": [
    "@staticmethod\n",
    "def get_neighbors(tx, node_id):\n",
    "    query = (\n",
    "        \"\"\"\n",
    "        MATCH (n)-[r]-(m)\n",
    "        WHERE n.id = $node_id\n",
    "        RETURN r.weight, m.id\n",
    "        \"\"\"\n",
    "    )\n",
    "    results = tx.run(query, node_id=node_id)\n",
    "    neighbors = []\n",
    "    total_weight = 0.0\n",
    "    for result in results:\n",
    "        neighbor_id = result.get(\"m.id\")\n",
    "        relation_weight = result.get(\"r.weight\")\n",
    "        total_weight += relation_weight\n",
    "        neighbors.append( (neighbor_id, relation_weight) )\n",
    "    neighbors.sort(key=lambda x: x[1])\n",
    "    return neighbors[-1::-1], total_weight"
   ]
  },
  {
   "cell_type": "code",
   "execution_count": 289,
   "metadata": {},
   "outputs": [],
   "source": [
    "def particle_filtering(node_id_list, num_particles=10, c=0.15):\n",
    "    p = {}\n",
    "    v = {}\n",
    "    tao = 1.0/num_particles\n",
    "    with driver.session(database='neo4j') as session:\n",
    "\n",
    "        ### Initialize Starting Nodes\n",
    "        transaction = session.begin_transaction()\n",
    "        query = (\n",
    "        \"\"\"\n",
    "        MATCH (n)\n",
    "        WHERE n.id IN $node_id_list\n",
    "        RETURN n\n",
    "        \"\"\"\n",
    "        )\n",
    "        result = transaction.run(query, node_id_list=node_id_list)\n",
    "        for node in result:\n",
    "            p[node['n'].get(\"id\")] = (1/tao)/len(node_id_list)\n",
    "            v[node['n'].get(\"id\")] = (1/tao)/len(node_id_list)\n",
    "\n",
    "        ### Iterate through neighbors until the particles degrade to 0\n",
    "        while(len(p.keys())):\n",
    "            temp = {}\n",
    "            for node in p.keys():\n",
    "                particles = p[node] * (1-c)\n",
    "                neighbors, total_weight = get_neighbors(transaction, node)\n",
    "                for neighbor_id, neighbor_weight in neighbors:\n",
    "                    if particles <= tao:\n",
    "                        break\n",
    "                    passing = particles * (neighbor_weight / total_weight)\n",
    "                    if passing < tao:\n",
    "                        passing = tao\n",
    "                    particles -= passing\n",
    "                    if neighbor_id in temp:\n",
    "                        passing += temp[neighbor_id]\n",
    "                    temp[neighbor_id] = passing\n",
    "            p = temp\n",
    "            for id, value in p.items():\n",
    "                if id in v:\n",
    "                    v[id] = v[id] + value\n",
    "                else:\n",
    "                    v[id] = value\n",
    "        \n",
    "        ### Filter the similar nodes for games only\n",
    "        games = []\n",
    "        for node_id, similarity in v.items():\n",
    "            if type(node_id) == int:\n",
    "                games.append((node_id, similarity))\n",
    "\n",
    "        ### Find the information for each game\n",
    "        recommendations = get_game_info(transaction, list(map(lambda x: x[0], games)))\n",
    "        return recommendations\n"
   ]
  },
  {
   "cell_type": "code",
   "execution_count": 290,
   "metadata": {},
   "outputs": [],
   "source": [
    "class Game():\n",
    "    def __init__(self, attr):\n",
    "        for key, value in attr.items():\n",
    "            self.__setattr__(key, value)"
   ]
  },
  {
   "cell_type": "code",
   "execution_count": 295,
   "metadata": {},
   "outputs": [
    {
     "name": "stdout",
     "output_type": "stream",
     "text": [
      "<Record n.name='Pandemic: Reign of Cthulhu' n.short_description='Close portals, shut down cultists, and stave off insanity before an Old One awakens.' n.complexity_socre=2.173 n.expected_play_time=40.0 n.avg_rating=7.37 n.thumbnail_url='https://cf.geekdo-images.com/rwNaEQfzABp7dkpnwn1Ksw__micro/img/aYPNXftti9XK3v5DwpeDrS448vo=/fit-in/64x64/filters:strip_icc()/pic2866737.png' n.rank=444>\n",
      "<Record n.name='Arkham Horror' n.short_description='Work as a team to save the town of Arkham from monsters and a Great Old One.' n.complexity_socre=3.5801 n.expected_play_time=240.0 n.avg_rating=7.24 n.thumbnail_url='https://cf.geekdo-images.com/9cJf4kd_HZQo6NunfJlo9w__micro/img/kOmgY2TommKpz2SMS5DjeHBqiQ8=/fit-in/64x64/filters:strip_icc()/pic175966.jpg' n.rank=397>\n",
      "<Record n.name='Arkham Horror: The Card Game' n.short_description='Investigate the horrors of Arkham while courting cosmic doom.' n.complexity_socre=3.5253 n.expected_play_time=120.0 n.avg_rating=8.14 n.thumbnail_url='https://cf.geekdo-images.com/B5F5ulz0UivNgrI9Ky0euA__micro/img/DnDtwD_7oQR982carXqiVfhOQog=/fit-in/64x64/filters:strip_icc()/pic3122349.jpg' n.rank=27>\n",
      "<Record n.name='Elder Sign' n.short_description='Roll dice to investigate the horrors of Arkham alone or as a group.' n.complexity_socre=2.3461 n.expected_play_time=90.0 n.avg_rating=6.97 n.thumbnail_url='https://cf.geekdo-images.com/wNCSCl961fMzDUhwetfjTg__micro/img/pd9pjvrY--Igzgont0cIyTUa3jw=/fit-in/64x64/filters:strip_icc()/pic1236119.jpg' n.rank=653>\n",
      "<Record n.name='Cthulhu: Death May Die' n.short_description='Disrupt the ritual and slay the Elder Gods in this co-op dice chucker.' n.complexity_socre=2.4245 n.expected_play_time=120.0 n.avg_rating=8.17 n.thumbnail_url='https://cf.geekdo-images.com/e8D09pfFsUsoX1D81EeoZg__micro/img/g4fUW30OaTTN48VW7tdVOIAEvWQ=/fit-in/64x64/filters:strip_icc()/pic4705171.jpg' n.rank=77>\n",
      "<Record n.name='Mansions of Madness: Second Edition' n.short_description='Unravel mysteries in Arkham with your investigative team in this app-guided game.' n.complexity_socre=2.6706 n.expected_play_time=180.0 n.avg_rating=7.97 n.thumbnail_url='https://cf.geekdo-images.com/LIooA9bTdjnE9qmhjL-UFw__micro/img/rsUu4YzIErI1oi6TRRA-cKiS-I0=/fit-in/64x64/filters:strip_icc()/pic3118622.jpg' n.rank=50>\n",
      "<Record n.name='Black Angel' n.short_description='Guide the Black Angel on an intergalactic voyage to find a new home for humanity.' n.complexity_socre=3.8412 n.expected_play_time=120.0 n.avg_rating=7.29 n.thumbnail_url='https://cf.geekdo-images.com/UsG5d8U0wGFJLKctASkWTQ__micro/img/cUM7zklW_PsbNptjNDDmHCrNPog=/fit-in/64x64/filters:strip_icc()/pic4830520.jpg' n.rank=778>\n",
      "<Record n.name='Beyond the Sun' n.short_description='Collectively develop a tech tree to fuel new discoveries and colonize space.' n.complexity_socre=3.1314 n.expected_play_time=120.0 n.avg_rating=7.97 n.thumbnail_url='https://cf.geekdo-images.com/BfEHqHQAvZLbRX7y7e9TWg__micro/img/RgHc2PFvpz3xxRPRg5v7d46JQNc=/fit-in/64x64/filters:strip_icc()/pic5617866.jpg' n.rank=86>\n",
      "<Record n.name='New Frontiers' n.short_description='Select an action for all that gives you the edge in building the best space empire.' n.complexity_socre=2.9368 n.expected_play_time=75.0 n.avg_rating=7.45 n.thumbnail_url='https://cf.geekdo-images.com/yiBNj7FQx_H_Q0JSJLwycw__micro/img/_qkPgHb3-wQNFZXon-R7Ff0TBbc=/fit-in/64x64/filters:strip_icc()/pic4195323.jpg' n.rank=741>\n",
      "<Record n.name='Pulsar 2849' n.short_description='Draft dice to harness the power of pulsars in the gold rush of a new millenium!' n.complexity_socre=3.3609 n.expected_play_time=90.0 n.avg_rating=7.68 n.thumbnail_url='https://cf.geekdo-images.com/6TOzhqw0BXNxbUZCl0k1sg__micro/img/uRSzQ_zXVdES0lgL5min_aaUKvc=/fit-in/64x64/filters:strip_icc()/pic6285702.jpg' n.rank=243>\n",
      "<Record n.name='Terraforming Mars: Ares Expedition' n.short_description='Return to Mars and terraform it once again, this time using only cards.' n.complexity_socre=2.9167 n.expected_play_time=60.0 n.avg_rating=7.71 n.thumbnail_url='https://cf.geekdo-images.com/eT_Atcy_vRJvuUMgYakNrQ__micro/img/UXqVq6URJBugEx8vhYEmlNr5U7U=/fit-in/64x64/filters:strip_icc()/pic6260098.jpg' n.rank=156>\n",
      "<Record n.name='The Crew: The Quest for Planet Nine' n.short_description='Go on a planet-discovering space mission in this cooperative trick-taking game.' n.complexity_socre=1.9734 n.expected_play_time=20.0 n.avg_rating=7.86 n.thumbnail_url='https://cf.geekdo-images.com/98LnQShydr11OBKS46xY-Q__micro/img/bIVTqYzQ5wDuCSmcQvpNokXZOUo=/fit-in/64x64/filters:strip_icc()/pic5687013.jpg' n.rank=58>\n",
      "<Record n.name='Tiny Epic Galaxies' n.short_description='Roll your dice and colonize planets, utilizing your energy and culture.' n.complexity_socre=2.1582 n.expected_play_time=45.0 n.avg_rating=7.35 n.thumbnail_url='https://cf.geekdo-images.com/c_87h8o0AOrfCO3hxMjjrA__micro/img/3StPmJGPf7TzK52lGa3wnhXM3jE=/fit-in/64x64/filters:strip_icc()/pic2349732.jpg' n.rank=309>\n",
      "<Record n.name='Galaxy Trucker' n.short_description='Prepare for unknown dangers by building the best spaceship possible.' n.complexity_socre=2.3305 n.expected_play_time=60.0 n.avg_rating=7.36 n.thumbnail_url='https://cf.geekdo-images.com/gLFt1Kif5Cfag505_COYYw__micro/img/ASahw-52DR8YMBuZEKT0IMfTR98=/fit-in/64x64/filters:strip_icc()/pic3926631.jpg' n.rank=249>\n",
      "<Record n.name='The Starfarers of Catan' n.short_description='Upgrade your space ship as you explore the galaxy, trade and settle on planets.' n.complexity_socre=2.5799 n.expected_play_time=120.0 n.avg_rating=6.8 n.thumbnail_url='https://cf.geekdo-images.com/gZC98WB4HjAnb5F-xy_8DQ__micro/img/g1XeZ3bKPt8OmcurIbsLqrZpAzg=/fit-in/64x64/filters:strip_icc()/pic5054740.jpg' n.rank=1337>\n",
      "<Record n.name='Eminent Domain' n.short_description='Survey planets, trade resources, and gain tech as your deck learns and grows.' n.complexity_socre=2.5065 n.expected_play_time=45.0 n.avg_rating=6.99 n.thumbnail_url='https://cf.geekdo-images.com/Dn3gJBq-k8Zww4a5yCzgOQ__micro/img/U9ua5ZkocHrznTVmkAZZUn95WP0=/fit-in/64x64/filters:strip_icc()/pic1160506.jpg' n.rank=742>\n",
      "<Record n.name='Eclipse: Second Dawn for the Galaxy' n.short_description='Build an interstellar civilization by exploration, research, conquest, and diplomacy.' n.complexity_socre=3.6213 n.expected_play_time=200.0 n.avg_rating=8.51 n.thumbnail_url='https://cf.geekdo-images.com/Oh3kHw6lweg6ru71Q16h2Q__micro/img/vhB59zFDq3Kul0xbr3api2selZs=/fit-in/64x64/filters:strip_icc()/pic5235277.jpg' n.rank=22>\n",
      "<Record n.name='Star Wars: Outer Rim' n.short_description='Star Wars characters race across the galaxy trying to achieve the most fame!' n.complexity_socre=2.5214 n.expected_play_time=180.0 n.avg_rating=7.72 n.thumbnail_url='https://cf.geekdo-images.com/RjwAj6hw5aEMGvosEA12gw__micro/img/m8vGZKh2FaMWzFv_7C5vQ5BIlZQ=/fit-in/64x64/filters:strip_icc()/pic5879810.jpg' n.rank=206>\n",
      "<Record n.name='Race for the Galaxy' n.short_description=\"Worlds await! Colonize, develop and conquer, taking advantage of others' choices.\" n.complexity_socre=2.9896 n.expected_play_time=60.0 n.avg_rating=7.75 n.thumbnail_url='https://cf.geekdo-images.com/-DOqixs8uwKUvvWPKI4f9w__micro/img/Fz_qRw_ZHI9TfZXY0b4YZ6zfT7o=/fit-in/64x64/filters:strip_icc()/pic5261714.jpg' n.rank=72>\n",
      "<Record n.name='Eclipse' n.short_description='Build an interstellar civilization by exploration, research, conquest, and diplomacy.' n.complexity_socre=3.7037 n.expected_play_time=180.0 n.avg_rating=7.85 n.thumbnail_url='https://cf.geekdo-images.com/cnFppsVNOSTJ-W3APQFuTg__micro/img/dfQTNAju5CUxn6JQl-Pxubac99o=/fit-in/64x64/filters:strip_icc()/pic1974056.jpg' n.rank=71>\n",
      "<Record n.name='Space Empires 4X' n.short_description='Venture in the vast space with your fleet to make your empire prevail in the galaxy.' n.complexity_socre=3.3856 n.expected_play_time=180.0 n.avg_rating=7.69 n.thumbnail_url='https://cf.geekdo-images.com/tMPL9ySUdJvhMc8qhIvHdQ__micro/img/Vx74mVkYh1_REUWu2NPPZSFO81g=/fit-in/64x64/filters:strip_icc()/pic6439163.jpg' n.rank=554>\n",
      "<Record n.name='Merchant of Venus (Second Edition)' n.short_description='Explore the galaxy, discover new alien civilizations, and deliver needed goods.' n.complexity_socre=2.9957 n.expected_play_time=240.0 n.avg_rating=7.14 n.thumbnail_url='https://cf.geekdo-images.com/2aHxs1ljNAD2Q2e8q6vW2w__micro/img/Lbu_CLUE8lTNjDIcPtctZ1_YVCQ=/fit-in/64x64/filters:strip_icc()/pic1134632.jpg' n.rank=1021>\n",
      "<Record n.name='Star Wars: Rebellion' n.short_description='Strike from your hidden base as the Rebels—or find and destroy it as the Empire.' n.complexity_socre=3.7359 n.expected_play_time=240.0 n.avg_rating=8.42 n.thumbnail_url='https://cf.geekdo-images.com/7SrPNGBKg9IIsP4UQpOi8g__micro/img/nEvTiCkWpT-ymH4bstc9c335TtQ=/fit-in/64x64/filters:strip_icc()/pic4325841.jpg' n.rank=9>\n",
      "<Record n.name='Terraforming Mars' n.short_description='Compete with rival CEOs to make Mars habitable and build your corporate empire.' n.complexity_socre=3.2565 n.expected_play_time=120.0 n.avg_rating=8.38 n.thumbnail_url='https://cf.geekdo-images.com/wg9oOLcsKvDesSUdZQ4rxw__micro/img/LUkXZhd1TO80eCiXMD3-KfnzA6k=/fit-in/64x64/filters:strip_icc()/pic3536616.jpg' n.rank=6>\n",
      "<Record n.name='On Mars' n.short_description='Be a part of the first Martian colony, striving to be the best contributor.' n.complexity_socre=4.6725 n.expected_play_time=150.0 n.avg_rating=8.22 n.thumbnail_url='https://cf.geekdo-images.com/Nm0Iw8NoiM9V8IsifimGBw__micro/img/HQNReYu8QkZqD4dbZeWg3cQrkv0=/fit-in/64x64/filters:strip_icc()/pic4357658.jpg' n.rank=48>\n",
      "<Record n.name='Planet Unknown' n.short_description='Develop and colonize your planet with oddly shaped tiles served on a rotating tray.' n.complexity_socre=2.2174 n.expected_play_time=80.0 n.avg_rating=7.98 n.thumbnail_url='https://cf.geekdo-images.com/3HkjDovk8Yr2wMumcSUGog__micro/img/IjNllRJSQoADdFHzNC4Zz8Dvf84=/fit-in/64x64/filters:strip_icc()/pic4843622.jpg' n.rank=385>\n",
      "<Record n.name='Gaia Project' n.short_description='Expand, research, upgrade, and settle the galaxy with one of 14 alien species.' n.complexity_socre=4.3907 n.expected_play_time=150.0 n.avg_rating=8.41 n.thumbnail_url='https://cf.geekdo-images.com/hGWFm3hbMlCDsfCsauOQ4g__micro/img/odWj2bEnZi9dEcQQrOtYj1e0QLE=/fit-in/64x64/filters:strip_icc()/pic5375625.png' n.rank=12>\n",
      "<Record n.name='Battlestar Galactica: The Board Game' n.short_description=\"How can the human race survive when you don't know who is actually human?\" n.complexity_socre=3.2482 n.expected_play_time=180.0 n.avg_rating=7.73 n.thumbnail_url='https://cf.geekdo-images.com/5Q2w2rFJiFI_uV89KP6ECg__micro/img/KGgAsbHUPaEjsl-r05JCH2ixP1o=/fit-in/64x64/filters:strip_icc()/pic354500.jpg' n.rank=92>\n",
      "<Record n.name='Twilight Imperium: Fourth Edition' n.short_description='Build an intergalactic empire through trade, research, conquest and grand politics.' n.complexity_socre=4.3034 n.expected_play_time=480.0 n.avg_rating=8.62 n.thumbnail_url='https://cf.geekdo-images.com/_Ppn5lssO5OaildSE-FgFA__micro/img/2gymaKs35_2yj7eyyA6cYyVmd9c=/fit-in/64x64/filters:strip_icc()/pic3727516.jpg' n.rank=5>\n",
      "<Record n.name=\"Dead Man's Draw\" n.short_description='Use various pirate powers to push your luck in this quick card game.' n.complexity_socre=1.3299 n.expected_play_time=15.0 n.avg_rating=6.85 n.thumbnail_url='https://cf.geekdo-images.com/m6tC_KsilZUQsKFIzDXIpA__micro/img/8sjjEMdTifqkgwU0j7eeSNFMhDQ=/fit-in/64x64/filters:strip_icc()/pic6489882.jpg' n.rank=1258>\n",
      "<Record n.name='Jamaica' n.short_description=\"Race around Jamaica to claim its spoils.  Beware! The fastest doesn't always win!\" n.complexity_socre=1.6601 n.expected_play_time=60.0 n.avg_rating=7.06 n.thumbnail_url='https://cf.geekdo-images.com/jZRfv3isrBG5waCzEx60Cw__micro/img/EU7d-yPXqtVCLzkW_MU3uMHERdU=/fit-in/64x64/filters:strip_icc()/pic6434838.png' n.rank=562>\n",
      "<Record n.name='Maracaibo' n.short_description='Seafarers journey to obtain wealth and fame in the 17th century Caribbean.' n.complexity_socre=3.9085 n.expected_play_time=120.0 n.avg_rating=8.08 n.thumbnail_url='https://cf.geekdo-images.com/rMNa0k05zMdKgSEp26Q3Tw__micro/img/rDI-yCgwVbB_szRjUWOY8IKIdUk=/fit-in/64x64/filters:strip_icc()/pic4917407.jpg' n.rank=51>\n",
      "<Record n.name='Skull King' n.short_description='Trick-taking on the high seas. Meet your bid to please the Skull King.' n.complexity_socre=1.6989 n.expected_play_time=30.0 n.avg_rating=7.49 n.thumbnail_url='https://cf.geekdo-images.com/jiL3MIGH_w3g6El3OHVVig__micro/img/oAb-drv9BtAcJpFei0c8TdyTH9M=/fit-in/64x64/filters:strip_icc()/pic6137456.png' n.rank=382>\n",
      "<Record n.name='Meuterer' n.short_description='Sail to isles & sell your goods, but the captain says where. You should be captain.' n.complexity_socre=2.3136 n.expected_play_time=60.0 n.avg_rating=6.88 n.thumbnail_url='https://cf.geekdo-images.com/Ca8jE5MAPHdEr4N0FgCcFg__micro/img/vIhvlfK6uq_1ogUYWcm-X3mD7J8=/fit-in/64x64/filters:strip_icc()/pic135137.jpg' n.rank=1447>\n",
      "<Record n.name='Port Royal' n.short_description=\"Hire a crew and loot ships, but don't get too greedy or you sail away empty handed!\" n.complexity_socre=1.628 n.expected_play_time=50.0 n.avg_rating=7.12 n.thumbnail_url='https://cf.geekdo-images.com/9lQIIxg_l6G-ZWmTqEHlOA__micro/img/5YB-aPjdT8ppVLiGAcBLQUfouu8=/fit-in/64x64/filters:strip_icc()/pic1949286.jpg' n.rank=510>\n",
      "<Record n.name='Smash Up' n.short_description='Combine two awesome factions and battle opponents to see who rules.' n.complexity_socre=2.0658 n.expected_play_time=45.0 n.avg_rating=6.71 n.thumbnail_url='https://cf.geekdo-images.com/c1DOHkXD35OcqfPoxoSXlA__micro/img/rn7LdxHdPiX7ryM01VyX5aXBtwE=/fit-in/64x64/filters:strip_icc()/pic1269874.jpg' n.rank=1074>\n",
      "<Record n.name='Samurai' n.short_description='Dispute the favor of three different castes in order to unite Japan under your rule.' n.complexity_socre=2.4781 n.expected_play_time=60.0 n.avg_rating=7.46 n.thumbnail_url='https://cf.geekdo-images.com/o9-sNXmFS_TLAb7ZlZ4dRA__micro/img/2FokcSwvRLQgyYC6_QK3Lme6dlc=/fit-in/64x64/filters:strip_icc()/pic3211873.jpg' n.rank=251>\n",
      "<Record n.name='Acquire' n.short_description='Invest, divest, and stage hostile takeovers in this classic real estate game.' n.complexity_socre=None n.expected_play_time=None n.avg_rating=7.33 n.thumbnail_url='https://cf.geekdo-images.com/FfguJeknahk88vKT7C3JLA__micro/img/PBfZck20tYP26yIhcX3g6d78lB8=/fit-in/64x64/filters:strip_icc()/pic7376875.jpg' n.rank=320>\n",
      "<Record n.name='Caylus' n.short_description='Entrepreneurs pay workers & bribe an official to build a Château & gain royal favor.' n.complexity_socre=3.7992 n.expected_play_time=150.0 n.avg_rating=7.73 n.thumbnail_url='https://cf.geekdo-images.com/yC7nOSc1x5PT-oNnh6TEcQ__micro/img/R7ZK4KtIIQNR2CJHZ6HtUxEY8ik=/fit-in/64x64/filters:strip_icc()/pic1638795.jpg' n.rank=95>\n",
      "<Record n.name='Russian Railroads' n.short_description='Acquire locomotives & industry, build track, and hire the best engineers in Russia.' n.complexity_socre=3.4058 n.expected_play_time=120.0 n.avg_rating=7.74 n.thumbnail_url='https://cf.geekdo-images.com/B0oEVgeqs4_rT8oyb1_Juw__micro/img/HlS0hYq3MdgmSR6YLj_h0x7zJl4=/fit-in/64x64/filters:strip_icc()/pic1772936.jpg' n.rank=108>\n",
      "<Record n.name='Brass: Birmingham' n.short_description='Build networks, grow industries, and navigate the world of the Industrial Revolution.' n.complexity_socre=3.8978 n.expected_play_time=120.0 n.avg_rating=8.62 n.thumbnail_url='https://cf.geekdo-images.com/x3zxjr-Vw5iU4yDPg70Jgw__micro/img/4Od3GYCiqptga0VbmyumPbJlBsU=/fit-in/64x64/filters:strip_icc()/pic3490053.jpg' n.rank=1>\n",
      "<Record n.name=\"Tzolk'in: The Mayan Calendar\" n.short_description='Lead your people, build monuments and make offerings to earn the favour of the gods.' n.complexity_socre=3.6693 n.expected_play_time=90.0 n.avg_rating=7.87 n.thumbnail_url='https://cf.geekdo-images.com/kXf7mDyDYuHg6oe8yTUIEA__micro/img/3EqJtoxAlTb2pJWxmA7TUu4HWNI=/fit-in/64x64/filters:strip_icc()/pic4604439.jpg' n.rank=54>\n",
      "<Record n.name='Factory Fun' n.short_description='Place machines and connect them with pipes to create the most efficient factory.' n.complexity_socre=2.5 n.expected_play_time=45.0 n.avg_rating=6.8 n.thumbnail_url='https://cf.geekdo-images.com/Q6Yl85arrnIhR2Icux1t-Q__micro/img/ulM1zBtqH4jPLoZvlRhEKG0mekg=/fit-in/64x64/filters:strip_icc()/pic802170.jpg' n.rank=1481>\n",
      "<Record n.name='Homesteaders' n.short_description='Homesteaders in the old west build a frontier settlement up into a town.' n.complexity_socre=3.0426 n.expected_play_time=90.0 n.avg_rating=7.2 n.thumbnail_url='https://cf.geekdo-images.com/i61Apbaaj_qvSt0-7NBvag__micro/img/0Y0EuXFqywoj2ZmFZoh_pLfNoRA=/fit-in/64x64/filters:strip_icc()/pic1113708.jpg' n.rank=900>\n",
      "<Record n.name=\"Wonderland's War\" n.short_description='The looking glass has shattered and war has come to Wonderland!' n.complexity_socre=2.9852 n.expected_play_time=125.0 n.avg_rating=8.2 n.thumbnail_url='https://cf.geekdo-images.com/bUbrvlY6Dw1cdb-sNrnkew__micro/img/WEhDuM1Tte6LgpHlTY6rAVmTcrw=/fit-in/64x64/filters:strip_icc()/pic5188761.jpg' n.rank=239>\n",
      "<Record n.name='Root' n.short_description='Decide the fate of the forest as woodland factions fight for contrasting goals.' n.complexity_socre=3.7577 n.expected_play_time=90.0 n.avg_rating=8.08 n.thumbnail_url='https://cf.geekdo-images.com/JUAUWaVUzeBgzirhZNmHHw__micro/img/tdHLiMYfi-KTy89sGBGZVeE9ts0=/fit-in/64x64/filters:strip_icc()/pic4254509.jpg' n.rank=28>\n",
      "<Record n.name='Hero Realms' n.short_description='Compete head-to-head to create the most powerful deck of spells and minions!' n.complexity_socre=1.8608 n.expected_play_time=30.0 n.avg_rating=7.54 n.thumbnail_url='https://cf.geekdo-images.com/BZiR636JJdSBwThtH42DVw__micro/img/CT-3SPCdosCxQSTo0uViyTFJ8YQ=/fit-in/64x64/filters:strip_icc()/pic3744052.jpg' n.rank=242>\n",
      "<Record n.name=\"Witch's Brew\" n.short_description='Collect ingredients and make valuable potions by outguessing your opponents.' n.complexity_socre=1.87 n.expected_play_time=60.0 n.avg_rating=7.01 n.thumbnail_url='https://cf.geekdo-images.com/Gg_HfBfrECelcQRBxL00mA__micro/img/1k1ociBzmD2Gd3-crJCzHn7PC4I=/fit-in/64x64/filters:strip_icc()/pic365958.jpg' n.rank=1175>\n"
     ]
    }
   ],
   "source": [
    "recommendations = particle_filtering([\"Space Exploration\", \"Pirates\", \"Theme: Cthulhu Mythos\"], num_particles=10, c=.15)"
   ]
  },
  {
   "cell_type": "code",
   "execution_count": 297,
   "metadata": {},
   "outputs": [
    {
     "data": {
      "text/plain": [
       "'Pandemic: Reign of Cthulhu'"
      ]
     },
     "execution_count": 297,
     "metadata": {},
     "output_type": "execute_result"
    }
   ],
   "source": [
    "recommendations[0].name"
   ]
  },
  {
   "cell_type": "code",
   "execution_count": 293,
   "metadata": {},
   "outputs": [],
   "source": [
    "games = []\n",
    "for node_id, similarity in similar_nodes.items():\n",
    "    if type(node_id) == int:\n",
    "        games.append((node_id, similarity))"
   ]
  },
  {
   "cell_type": "code",
   "execution_count": 298,
   "metadata": {},
   "outputs": [],
   "source": [
    "@staticmethod\n",
    "def get_game_info(tx, game_ids):\n",
    "        query = (\n",
    "        \"\"\"\n",
    "        MATCH (n:Game)\n",
    "        WHERE n.id IN $game_ids\n",
    "        RETURN n.name, n.short_description, n.complexity_socre, n.expected_play_time, n.avg_rating, n.thumbnail_url, n.rank\n",
    "        \"\"\"\n",
    "        )\n",
    "        result = tx.run(query, game_ids=game_ids)\n",
    "\n",
    "        game_recs = []\n",
    "        for record in result:\n",
    "            attr = {}\n",
    "            attr[\"id\"] = record.get(\"n.id\")\n",
    "            attr[\"num_ratings\"] = record.get(\"n.num_ratings\")\n",
    "            attr[\"name\"] = record.get(\"n.name\")\n",
    "            attr[\"short_descrption\"] = record.get(\"n.short_descrption\")\n",
    "            attr[\"long_description\"] = record.get(\"n.long_description\")\n",
    "            attr[\"complexity_score\"] = record.get(\"n.complexity_socre\")\n",
    "            attr[\"year_published\"] = record.get(\"n.year_published\")\n",
    "            attr[\"expected_play_time\"] = record.get(\"n.expected_play_time\")\n",
    "            attr[\"avg_rating\"] = record.get(\"n.avg_rating\")\n",
    "            attr[\"thumbnail_url\"] = record.get(\"n.thumbnail_url\")\n",
    "            attr[\"image_url\"] = record.get(\"n.image_url\")\n",
    "            attr[\"min_play_time\"] = record.get(\"n.min_play_time\")\n",
    "            attr[\"max_play_time\"] = record.get(\"n.max_play_time\")\n",
    "            attr[\"rank\"] = record.get(\"n.rank\")\n",
    "            game_recs.append(Game(attr))\n",
    "        return game_recs"
   ]
  },
  {
   "cell_type": "code",
   "execution_count": null,
   "metadata": {},
   "outputs": [],
   "source": []
  }
 ],
 "metadata": {
  "kernelspec": {
   "display_name": "Python 3",
   "language": "python",
   "name": "python3"
  },
  "language_info": {
   "codemirror_mode": {
    "name": "ipython",
    "version": 3
   },
   "file_extension": ".py",
   "mimetype": "text/x-python",
   "name": "python",
   "nbconvert_exporter": "python",
   "pygments_lexer": "ipython3",
   "version": "3.10.6"
  },
  "orig_nbformat": 4
 },
 "nbformat": 4,
 "nbformat_minor": 2
}
