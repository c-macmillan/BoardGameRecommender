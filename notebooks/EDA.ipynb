{
 "cells": [
  {
   "cell_type": "code",
   "execution_count": 1,
   "metadata": {},
   "outputs": [],
   "source": [
    "import pandas as pd\n",
    "import matplotlib.pyplot as plt"
   ]
  },
  {
   "cell_type": "code",
   "execution_count": 51,
   "metadata": {},
   "outputs": [],
   "source": [
    "review_df = pd.read_csv(\"../data/reviews.csv\")"
   ]
  },
  {
   "cell_type": "code",
   "execution_count": 52,
   "metadata": {},
   "outputs": [
    {
     "data": {
      "text/plain": [
       "source_type                                               Person\n",
       "source_id                                                aecohen\n",
       "edge_type                                            hasReviewed\n",
       "target_type                                                 Game\n",
       "target_id                                                 126163\n",
       "rating                                                       8.5\n",
       "comment        This is a great game for those that want very ...\n",
       "Name: 97, dtype: object"
      ]
     },
     "execution_count": 52,
     "metadata": {},
     "output_type": "execute_result"
    }
   ],
   "source": [
    "review_df.iloc[97,:]"
   ]
  },
  {
   "cell_type": "code",
   "execution_count": 53,
   "metadata": {},
   "outputs": [
    {
     "data": {
      "text/plain": [
       "8215"
      ]
     },
     "execution_count": 53,
     "metadata": {},
     "output_type": "execute_result"
    }
   ],
   "source": [
    "len(review_df['source_id'].unique())"
   ]
  },
  {
   "cell_type": "code",
   "execution_count": 54,
   "metadata": {},
   "outputs": [
    {
     "data": {
      "image/png": "[encoded data removed]",
      "text/plain": [
       "<Figure size 640x480 with 1 Axes>"
      ]
     },
     "metadata": {},
     "output_type": "display_data"
    }
   ],
   "source": [
    "review_df['source_id'].value_counts().hist()\n",
    "plt.title(\"Number of Reviews per User\")\n",
    "plt.show()"
   ]
  },
  {
   "cell_type": "code",
   "execution_count": 55,
   "metadata": {},
   "outputs": [
    {
     "name": "stdout",
     "output_type": "stream",
     "text": [
      "1848924\n",
      "1800568\n"
     ]
    }
   ],
   "source": [
    "print(len(review_df))\n",
    "review_df = review_df.drop_duplicates(subset=[\"source_id\", \"target_id\"], keep='last')\n",
    "print(len(review_df))\n"
   ]
  },
  {
   "cell_type": "code",
   "execution_count": 59,
   "metadata": {},
   "outputs": [],
   "source": [
    "with open(\"../data/users_to_check.txt\", 'w') as f:\n",
    "    f.write(\",\".join(list(review_df['source_id'].value_counts()[review_df['source_id'].value_counts() < 100].sort_values(ascending=True).index)))"
   ]
  },
  {
   "cell_type": "code",
   "execution_count": 48,
   "metadata": {},
   "outputs": [],
   "source": [
    "review_df.to_csv(\"../data/reviews.csv\", index = False)"
   ]
  },
  {
   "cell_type": "code",
   "execution_count": 58,
   "metadata": {},
   "outputs": [
    {
     "data": {
      "text/plain": [
       "Index(['abbojm02', 'AaronCook', 'aarcia', 'aecohen', 'AJobenhoff', 'aither',\n",
       "       'Airkixer', 'abbojm03', 'Affie23', '1c0n',\n",
       "       ...\n",
       "       'Falsey', 'anwei', 'anber500', 'BJZSN', 'alexandrehamelin', 'Axp13200',\n",
       "       'Aldarann', 'Greenerism', 'budsticky', 'Black Alexidor'],\n",
       "      dtype='object', name='source_id', length=3926)"
      ]
     },
     "execution_count": 58,
     "metadata": {},
     "output_type": "execute_result"
    }
   ],
   "source": [
    "review_df['source_id'].value_counts()[review_df['source_id'].value_counts() < 100].sort_values(ascending=True).index.unique()"
   ]
  },
  {
   "cell_type": "code",
   "execution_count": 30,
   "metadata": {},
   "outputs": [
    {
     "data": {
      "text/html": [
       "<div>\n",
       "<style scoped>\n",
       "    .dataframe tbody tr th:only-of-type {\n",
       "        vertical-align: middle;\n",
       "    }\n",
       "\n",
       "    .dataframe tbody tr th {\n",
       "        vertical-align: top;\n",
       "    }\n",
       "\n",
       "    .dataframe thead th {\n",
       "        text-align: right;\n",
       "    }\n",
       "</style>\n",
       "<table border=\"1\" class=\"dataframe\">\n",
       "  <thead>\n",
       "    <tr style=\"text-align: right;\">\n",
       "      <th></th>\n",
       "      <th>source_type</th>\n",
       "      <th>source_id</th>\n",
       "      <th>edge_type</th>\n",
       "      <th>target_type</th>\n",
       "      <th>target_id</th>\n",
       "      <th>rating</th>\n",
       "      <th>comment</th>\n",
       "    </tr>\n",
       "  </thead>\n",
       "  <tbody>\n",
       "    <tr>\n",
       "      <th>886944</th>\n",
       "      <td>Person</td>\n",
       "      <td>dafair</td>\n",
       "      <td>hasReviewed</td>\n",
       "      <td>Game</td>\n",
       "      <td>4282</td>\n",
       "      <td>3.0</td>\n",
       "      <td>Repackaged public domain game.</td>\n",
       "    </tr>\n",
       "    <tr>\n",
       "      <th>886945</th>\n",
       "      <td>Person</td>\n",
       "      <td>dafair</td>\n",
       "      <td>hasReviewed</td>\n",
       "      <td>Game</td>\n",
       "      <td>8257</td>\n",
       "      <td>9.0</td>\n",
       "      <td>Several of the expansions are quite good, and ...</td>\n",
       "    </tr>\n",
       "    <tr>\n",
       "      <th>886946</th>\n",
       "      <td>Person</td>\n",
       "      <td>dafair</td>\n",
       "      <td>hasReviewed</td>\n",
       "      <td>Game</td>\n",
       "      <td>7865</td>\n",
       "      <td>6.0</td>\n",
       "      <td>Game is great for my kids. I like it well enou...</td>\n",
       "    </tr>\n",
       "    <tr>\n",
       "      <th>886947</th>\n",
       "      <td>Person</td>\n",
       "      <td>dafair</td>\n",
       "      <td>hasReviewed</td>\n",
       "      <td>Game</td>\n",
       "      <td>22398</td>\n",
       "      <td>6.0</td>\n",
       "      <td>Another Excellent addition to the series. I li...</td>\n",
       "    </tr>\n",
       "    <tr>\n",
       "      <th>886948</th>\n",
       "      <td>Person</td>\n",
       "      <td>dafair</td>\n",
       "      <td>hasReviewed</td>\n",
       "      <td>Game</td>\n",
       "      <td>5867</td>\n",
       "      <td>6.0</td>\n",
       "      <td>Game is great for my kids. I like it well enou...</td>\n",
       "    </tr>\n",
       "    <tr>\n",
       "      <th>...</th>\n",
       "      <td>...</td>\n",
       "      <td>...</td>\n",
       "      <td>...</td>\n",
       "      <td>...</td>\n",
       "      <td>...</td>\n",
       "      <td>...</td>\n",
       "      <td>...</td>\n",
       "    </tr>\n",
       "    <tr>\n",
       "      <th>890917</th>\n",
       "      <td>Person</td>\n",
       "      <td>dafair</td>\n",
       "      <td>hasReviewed</td>\n",
       "      <td>Game</td>\n",
       "      <td>30139</td>\n",
       "      <td>8.0</td>\n",
       "      <td>Not as necessary as the Petting Zoo Expansion,...</td>\n",
       "    </tr>\n",
       "    <tr>\n",
       "      <th>890918</th>\n",
       "      <td>Person</td>\n",
       "      <td>dafair</td>\n",
       "      <td>hasReviewed</td>\n",
       "      <td>Game</td>\n",
       "      <td>3435</td>\n",
       "      <td>7.0</td>\n",
       "      <td>Fun little game. Reminds one of Duell a bit wh...</td>\n",
       "    </tr>\n",
       "    <tr>\n",
       "      <th>890919</th>\n",
       "      <td>Person</td>\n",
       "      <td>dafair</td>\n",
       "      <td>hasReviewed</td>\n",
       "      <td>Game</td>\n",
       "      <td>19998</td>\n",
       "      <td>6.0</td>\n",
       "      <td>NaN</td>\n",
       "    </tr>\n",
       "    <tr>\n",
       "      <th>890920</th>\n",
       "      <td>Person</td>\n",
       "      <td>dafair</td>\n",
       "      <td>hasReviewed</td>\n",
       "      <td>Game</td>\n",
       "      <td>181260</td>\n",
       "      <td>6.0</td>\n",
       "      <td>NaN</td>\n",
       "    </tr>\n",
       "    <tr>\n",
       "      <th>890921</th>\n",
       "      <td>Person</td>\n",
       "      <td>dafair</td>\n",
       "      <td>hasReviewed</td>\n",
       "      <td>Game</td>\n",
       "      <td>196340</td>\n",
       "      <td>9.0</td>\n",
       "      <td>NaN</td>\n",
       "    </tr>\n",
       "  </tbody>\n",
       "</table>\n",
       "<p>3978 rows × 7 columns</p>\n",
       "</div>"
      ],
      "text/plain": [
       "       source_type source_id    edge_type target_type  target_id  rating   \n",
       "886944      Person    dafair  hasReviewed        Game       4282     3.0  \\\n",
       "886945      Person    dafair  hasReviewed        Game       8257     9.0   \n",
       "886946      Person    dafair  hasReviewed        Game       7865     6.0   \n",
       "886947      Person    dafair  hasReviewed        Game      22398     6.0   \n",
       "886948      Person    dafair  hasReviewed        Game       5867     6.0   \n",
       "...            ...       ...          ...         ...        ...     ...   \n",
       "890917      Person    dafair  hasReviewed        Game      30139     8.0   \n",
       "890918      Person    dafair  hasReviewed        Game       3435     7.0   \n",
       "890919      Person    dafair  hasReviewed        Game      19998     6.0   \n",
       "890920      Person    dafair  hasReviewed        Game     181260     6.0   \n",
       "890921      Person    dafair  hasReviewed        Game     196340     9.0   \n",
       "\n",
       "                                                  comment  \n",
       "886944                     Repackaged public domain game.  \n",
       "886945  Several of the expansions are quite good, and ...  \n",
       "886946  Game is great for my kids. I like it well enou...  \n",
       "886947  Another Excellent addition to the series. I li...  \n",
       "886948  Game is great for my kids. I like it well enou...  \n",
       "...                                                   ...  \n",
       "890917  Not as necessary as the Petting Zoo Expansion,...  \n",
       "890918  Fun little game. Reminds one of Duell a bit wh...  \n",
       "890919                                                NaN  \n",
       "890920                                                NaN  \n",
       "890921                                                NaN  \n",
       "\n",
       "[3978 rows x 7 columns]"
      ]
     },
     "execution_count": 30,
     "metadata": {},
     "output_type": "execute_result"
    }
   ],
   "source": [
    "review_df[review_df['source_id']=='dafair']"
   ]
  },
  {
   "cell_type": "code",
   "execution_count": null,
   "metadata": {},
   "outputs": [],
   "source": []
  }
 ],
 "metadata": {
  "kernelspec": {
   "display_name": "Python 3",
   "language": "python",
   "name": "python3"
  },
  "language_info": {
   "codemirror_mode": {
    "name": "ipython",
    "version": 3
   },
   "file_extension": ".py",
   "mimetype": "text/x-python",
   "name": "python",
   "nbconvert_exporter": "python",
   "pygments_lexer": "ipython3",
   "version": "3.10.6"
  },
  "orig_nbformat": 4
 },
 "nbformat": 4,
 "nbformat_minor": 2
}
