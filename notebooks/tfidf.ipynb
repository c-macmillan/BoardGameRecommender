{
 "cells": [
  {
   "cell_type": "code",
   "execution_count": 73,
   "metadata": {},
   "outputs": [],
   "source": [
    "import pandas as pd\n",
    "from sklearn.feature_extraction.text import TfidfVectorizer\n",
    "from sklearn.metrics.pairwise import cosine_similarity"
   ]
  },
  {
   "cell_type": "code",
   "execution_count": 74,
   "metadata": {},
   "outputs": [
    {
     "data": {
      "text/html": [
       "<div>\n",
       "<style scoped>\n",
       "    .dataframe tbody tr th:only-of-type {\n",
       "        vertical-align: middle;\n",
       "    }\n",
       "\n",
       "    .dataframe tbody tr th {\n",
       "        vertical-align: top;\n",
       "    }\n",
       "\n",
       "    .dataframe thead th {\n",
       "        text-align: right;\n",
       "    }\n",
       "</style>\n",
       "<table border=\"1\" class=\"dataframe\">\n",
       "  <thead>\n",
       "    <tr style=\"text-align: right;\">\n",
       "      <th></th>\n",
       "      <th>id</th>\n",
       "      <th>rank</th>\n",
       "      <th>name</th>\n",
       "      <th>short_description</th>\n",
       "      <th>avg_rating</th>\n",
       "      <th>num_ratings</th>\n",
       "      <th>thumbnail_url</th>\n",
       "      <th>long_description</th>\n",
       "      <th>complexity_socre</th>\n",
       "      <th>year_published</th>\n",
       "      <th>image_url</th>\n",
       "      <th>min_play_time</th>\n",
       "      <th>max_play_time</th>\n",
       "      <th>expected_play_time</th>\n",
       "    </tr>\n",
       "  </thead>\n",
       "  <tbody>\n",
       "    <tr>\n",
       "      <th>0</th>\n",
       "      <td>224517</td>\n",
       "      <td>1.0</td>\n",
       "      <td>Brass: Birmingham</td>\n",
       "      <td>Build networks, grow industries, and navigate ...</td>\n",
       "      <td>8.62</td>\n",
       "      <td>37652</td>\n",
       "      <td>https://cf.geekdo-images.com/x3zxjr-Vw5iU4yDPg...</td>\n",
       "      <td>Brass: Birmingham is an economic strategy game...</td>\n",
       "      <td>3.8978</td>\n",
       "      <td>2018.0</td>\n",
       "      <td>https://cf.geekdo-images.com/x3zxjr-Vw5iU4yDPg...</td>\n",
       "      <td>60.0</td>\n",
       "      <td>120.0</td>\n",
       "      <td>120.0</td>\n",
       "    </tr>\n",
       "  </tbody>\n",
       "</table>\n",
       "</div>"
      ],
      "text/plain": [
       "       id  rank               name   \n",
       "0  224517   1.0  Brass: Birmingham  \\\n",
       "\n",
       "                                   short_description  avg_rating  num_ratings   \n",
       "0  Build networks, grow industries, and navigate ...        8.62        37652  \\\n",
       "\n",
       "                                       thumbnail_url   \n",
       "0  https://cf.geekdo-images.com/x3zxjr-Vw5iU4yDPg...  \\\n",
       "\n",
       "                                    long_description  complexity_socre   \n",
       "0  Brass: Birmingham is an economic strategy game...            3.8978  \\\n",
       "\n",
       "   year_published                                          image_url   \n",
       "0          2018.0  https://cf.geekdo-images.com/x3zxjr-Vw5iU4yDPg...  \\\n",
       "\n",
       "   min_play_time  max_play_time  expected_play_time  \n",
       "0           60.0          120.0               120.0  "
      ]
     },
     "execution_count": 74,
     "metadata": {},
     "output_type": "execute_result"
    }
   ],
   "source": [
    "game_df = pd.read_csv(\"../data/game_info.csv\")\n",
    "game_df.head(1)"
   ]
  },
  {
   "cell_type": "code",
   "execution_count": 75,
   "metadata": {},
   "outputs": [
    {
     "name": "stdout",
     "output_type": "stream",
     "text": [
      "2499 games in total\n",
      "2426 games have a description\n"
     ]
    }
   ],
   "source": [
    "print(f\"{len(game_df)} games in total\")\n",
    "game_df = game_df[game_df['long_description'].isna()==False].reset_index()\n",
    "print(f\"{len(game_df)} games have a description\")"
   ]
  },
  {
   "cell_type": "code",
   "execution_count": 76,
   "metadata": {},
   "outputs": [],
   "source": [
    "tf = TfidfVectorizer(analyzer='word', ngram_range=(1,1), min_df=1, stop_words='english')\n",
    "tfidf_matrix = tf.fit_transform(game_df['long_description'])\n",
    "cos_sim_tfidf = cosine_similarity(tfidf_matrix)"
   ]
  },
  {
   "cell_type": "code",
   "execution_count": 77,
   "metadata": {},
   "outputs": [],
   "source": [
    "def get_top_recs(game_id=None, game_name=None, num_recs = 30):\n",
    "    if game_id is None and game_name is None:\n",
    "        print(\"Need to provide game_id or game_name\")\n",
    "        return\n",
    "    if game_id is not None:\n",
    "        idx = game_df.loc[game_df['id']==game_id, \"name\"].index.values[0]\n",
    "    else:\n",
    "        idx = game_df.loc[game_df['name']==game_name, \"name\"].index.values[0]\n",
    "\n",
    "    sim_scores = list(enumerate(cos_sim_tfidf[idx]))\n",
    "    top_recs = sorted(sim_scores, key=lambda x: x[1], reverse=True)[1:num_recs+1]\n",
    "    rec_idxs = [rec[0] for rec in top_recs]\n",
    "    rec_weights = [rec[1] for rec in top_recs]\n",
    "    recs_df = pd.DataFrame({\n",
    "        \"source_name\": game_df.loc[idx, 'name'],\n",
    "        \"source_id\": game_df.loc[idx, 'id'],\n",
    "        \"edge_type\": \"similarTo\",\n",
    "        \"target_id\": game_df.loc[rec_idxs, 'id'],\n",
    "        \"target_name\": game_df.loc[rec_idxs, 'name'],\n",
    "        \"weight\": rec_weights\n",
    "    })\n",
    "    return recs_df"
   ]
  },
  {
   "cell_type": "code",
   "execution_count": 78,
   "metadata": {},
   "outputs": [],
   "source": [
    "similarity_edge = pd.DataFrame()\n",
    "for game_id in game_df['id'].unique():\n",
    "    similarity_edge = pd.concat([similarity_edge, get_top_recs(game_id=game_id)])"
   ]
  },
  {
   "cell_type": "code",
   "execution_count": 79,
   "metadata": {},
   "outputs": [],
   "source": [
    "filtered_similarity_edge = similarity_edge[similarity_edge['weight']>similarity_edge['weight'].mean()]"
   ]
  },
  {
   "cell_type": "code",
   "execution_count": 80,
   "metadata": {},
   "outputs": [
    {
     "data": {
      "text/plain": [
       "count    72780.000000\n",
       "mean         0.154825\n",
       "std          0.073713\n",
       "min          0.012195\n",
       "25%          0.111669\n",
       "50%          0.139271\n",
       "75%          0.178580\n",
       "max          1.000000\n",
       "Name: weight, dtype: float64"
      ]
     },
     "execution_count": 80,
     "metadata": {},
     "output_type": "execute_result"
    }
   ],
   "source": [
    "similarity_edge['weight'].describe()"
   ]
  },
  {
   "cell_type": "code",
   "execution_count": 81,
   "metadata": {},
   "outputs": [
    {
     "data": {
      "text/plain": [
       "<Axes: >"
      ]
     },
     "execution_count": 81,
     "metadata": {},
     "output_type": "execute_result"
    },
    {
     "data": {
      "image/png": "[encoded data removed]",
      "text/plain": [
       "<Figure size 640x480 with 1 Axes>"
      ]
     },
     "metadata": {},
     "output_type": "display_data"
    }
   ],
   "source": [
    "filtered_similarity_edge['source_id'].value_counts().hist(bins=30)"
   ]
  },
  {
   "cell_type": "code",
   "execution_count": 82,
   "metadata": {},
   "outputs": [],
   "source": [
    "filtered_similarity_edge[['source_id','target_id','weight']].to_csv(\"../data/processed/similarTo_edge_processed.csv\", index=False)"
   ]
  },
  {
   "cell_type": "code",
   "execution_count": null,
   "metadata": {},
   "outputs": [],
   "source": []
  }
 ],
 "metadata": {
  "kernelspec": {
   "display_name": "Python 3",
   "language": "python",
   "name": "python3"
  },
  "language_info": {
   "codemirror_mode": {
    "name": "ipython",
    "version": 3
   },
   "file_extension": ".py",
   "mimetype": "text/x-python",
   "name": "python",
   "nbconvert_exporter": "python",
   "pygments_lexer": "ipython3",
   "version": "3.11.3"
  },
  "orig_nbformat": 4
 },
 "nbformat": 4,
 "nbformat_minor": 2
}
