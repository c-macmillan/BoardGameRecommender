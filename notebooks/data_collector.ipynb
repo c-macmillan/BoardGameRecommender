{
 "cells": [
  {
   "cell_type": "code",
   "execution_count": 69,
   "metadata": {},
   "outputs": [],
   "source": [
    "import requests\n",
    "import re\n",
    "import xmltodict\n",
    "from bs4 import BeautifulSoup\n",
    "\n",
    "response = requests.get(\"https://boardgamegeek.com/browse/boardgame/page/1\")\n",
    "soup = BeautifulSoup(response.content, 'html.parser')\n",
    "table = soup.find('table', {'class': 'collection_table'})\n",
    "rows = table.find_all('tr')[1:]\n",
    "\n",
    "board_games = []\n",
    "for row in rows:\n",
    "    columns = row.find_all('td')\n",
    "    if len(columns) < 6:\n",
    "        continue\n",
    "    \n",
    "    ## Get the information in the summary table\n",
    "    rank = int(columns[0].text.strip())\n",
    "\n",
    "    image_html_tag = str(columns[1].find(\"a\").find(\"img\"))\n",
    "    id_html_tag = str(columns[1].find(\"a\"))\n",
    "    game_id = re.search('/(\\d+)/', id_html_tag).group(1)\n",
    "    image_url = re.search('src=\"(.*?)\"', image_html_tag).group(1)\n",
    "\n",
    "    name = columns[2].find_all('a')[0].text.strip()\n",
    "    description = columns[2].find('p', class_='smallefont dull').text.strip()\n",
    "\n",
    "    geek_rating = columns[3].text.strip()\n",
    "    avg_rating = columns[4].text.strip()\n",
    "\n",
    "    num_ratings = columns[5].text.strip()\n",
    "\n",
    "    ## Call the api to get more detailed information about the game\n",
    "    response = requests.get(\"https://www.boardgamegeek.com/xmlapi2/thing?id=224517&stats=1\")\n",
    "    # Convert the XML response to a dictionary\n",
    "    data_dict = xmltodict.parse(response.content)\n",
    "\n",
    "\n",
    "    board_game = {'id':game_id, 'rank': rank, 'name': name, 'description': description, 'img_url':image_url}\n",
    "    board_games.append(board_game)"
   ]
  },
  {
   "cell_type": "code",
   "execution_count": 71,
   "metadata": {},
   "outputs": [
    {
     "data": {
      "text/plain": [
       "100"
      ]
     },
     "execution_count": 71,
     "metadata": {},
     "output_type": "execute_result"
    }
   ],
   "source": [
    "len(board_games)"
   ]
  },
  {
   "cell_type": "code",
   "execution_count": 80,
   "metadata": {},
   "outputs": [
    {
     "data": {
      "text/plain": [
       "1443"
      ]
     },
     "execution_count": 80,
     "metadata": {},
     "output_type": "execute_result"
    }
   ],
   "source": [
    "response = requests.get(\"https://boardgamegeek.com/browse/boardgame/\")\n",
    "soup = BeautifulSoup(response.content, 'html.parser')\n",
    "num_pages = int(soup.find('a', title='last page').text.strip(\"[] \"))\n",
    "num_pages"
   ]
  },
  {
   "cell_type": "code",
   "execution_count": 79,
   "metadata": {},
   "outputs": [
    {
     "name": "stdout",
     "output_type": "stream",
     "text": [
      "1443\n"
     ]
    }
   ],
   "source": [
    "print(soup.find('a', title='last page').text.strip(\"[] \"))"
   ]
  },
  {
   "cell_type": "code",
   "execution_count": 161,
   "metadata": {},
   "outputs": [],
   "source": [
    "response = requests.get(\"https://www.boardgamegeek.com/xmlapi2/thing?id=224517&stats=1\")\n",
    "# Convert the XML response to a dictionary\n",
    "data_dict = xmltodict.parse(response.content)"
   ]
  },
  {
   "cell_type": "code",
   "execution_count": 139,
   "metadata": {},
   "outputs": [
    {
     "data": {
      "text/plain": [
       "'4'"
      ]
     },
     "execution_count": 139,
     "metadata": {},
     "output_type": "execute_result"
    }
   ],
   "source": [
    "int(data_dict['items']['item']['maxplayers']['@value'])"
   ]
  },
  {
   "cell_type": "code",
   "execution_count": 158,
   "metadata": {},
   "outputs": [],
   "source": [
    "## Extract the best player counts for this game based on the BGG user poll\n",
    "num_players_poll = [ poll for poll in data_dict['items']['item']['poll'] if poll['@name']=='suggested_numplayers'][0]\n",
    "num_votes = int(num_players_poll['@totalvotes'])\n",
    "num_players_dict = {}\n",
    "for poll_result in num_players_poll['results']:    \n",
    "    recommended = 0\n",
    "    not_recommended = 0\n",
    "    player_count = poll_result['@numplayers']\n",
    "    for vote in poll_result['result']:\n",
    "        match vote['@value']:\n",
    "            case 'Best':\n",
    "                recommended += int(vote['@numvotes'])\n",
    "                not_recommended -= int(vote['@numvotes'])\n",
    "            case 'Recommended':\n",
    "                recommended += int(vote['@numvotes'])\n",
    "            case 'Not Recommended':\n",
    "                not_recommended += int(vote['@numvotes'])\n",
    "    rec = recommended - not_recommended\n",
    "    \n",
    "    if '+' in player_count:\n",
    "        max_players = int(data_dict['items']['item']['maxplayers']['@value'])\n",
    "        for i in range(int(player_count.strip(\"+\")), max_players + 1):\n",
    "            if i in num_players_dict:\n",
    "                num_players_dict[i] = num_players_dict[i] + rec\n",
    "            else:\n",
    "                num_players_dict[i] = rec\n",
    "    else:\n",
    "        num_players_dict[int(player_count)] = rec\n",
    "\n",
    "num_players_dict = {(k, v/num_votes) for k,v in num_players_dict.items()}"
   ]
  },
  {
   "cell_type": "code",
   "execution_count": 159,
   "metadata": {},
   "outputs": [
    {
     "data": {
      "text/plain": [
       "{(1, -0.46705202312138727),\n",
       " (2, 0.7236994219653179),\n",
       " (3, 1.3988439306358382),\n",
       " (4, 0.8520231213872832)}"
      ]
     },
     "execution_count": 159,
     "metadata": {},
     "output_type": "execute_result"
    }
   ],
   "source": [
    "num_players_dict"
   ]
  },
  {
   "cell_type": "code",
   "execution_count": 126,
   "metadata": {},
   "outputs": [
    {
     "data": {
      "text/plain": [
       "dict_keys(['@type', '@id', 'thumbnail', 'image', 'name', 'description', 'yearpublished', 'minplayers', 'maxplayers', 'poll', 'playingtime', 'minplaytime', 'maxplaytime', 'minage', 'link'])"
      ]
     },
     "execution_count": 126,
     "metadata": {},
     "output_type": "execute_result"
    }
   ],
   "source": [
    "data_dict['items']['item'].keys()"
   ]
  },
  {
   "cell_type": "code",
   "execution_count": 187,
   "metadata": {},
   "outputs": [
    {
     "data": {
      "text/plain": [
       "'https://cf.geekdo-images.com/x3zxjr-Vw5iU4yDPg70Jgw__original/img/FpyxH41Y6_ROoePAilPNEhXnzO8=/0x0/filters:format(jpeg)/pic3490053.jpg'"
      ]
     },
     "execution_count": 187,
     "metadata": {},
     "output_type": "execute_result"
    }
   ],
   "source": [
    "data_dict['items']['item']['image']"
   ]
  },
  {
   "cell_type": "code",
   "execution_count": 182,
   "metadata": {},
   "outputs": [
    {
     "data": {
      "text/plain": [
       "'120'"
      ]
     },
     "execution_count": 182,
     "metadata": {},
     "output_type": "execute_result"
    }
   ],
   "source": [
    "data_dict['items']['item']['playingtime']['@value']"
   ]
  },
  {
   "cell_type": "code",
   "execution_count": 185,
   "metadata": {},
   "outputs": [
    {
     "data": {
      "text/plain": [
       "'120'"
      ]
     },
     "execution_count": 185,
     "metadata": {},
     "output_type": "execute_result"
    }
   ],
   "source": [
    "data_dict['items']['item']['maxplaytime']['@value']"
   ]
  },
  {
   "cell_type": "code",
   "execution_count": 107,
   "metadata": {},
   "outputs": [
    {
     "data": {
      "text/plain": [
       "\"Brass: Birmingham is an economic strategy game sequel to Martin Wallace' 2007 masterpiece, Brass. Brass: Birmingham tells the story of competing entrepreneurs in Birmingham during the industrial revolution, between the years of 1770-1870.&#10;&#10;As in its predecessor, you must develop, build, and establish your industries and network, in an effort to exploit low or high market demands.&#10;&#10;Each round, players take turns according to the turn order track, receiving two actions to perform any of the following actions (found in the original game):&#10;&#10;1) Build - Pay required resources and place an industry tile.&#10;2) Network - Add a rail / canal link, expanding your network.&#10;3) Develop - Increase the VP value of an industry.&#10;4) Sell - Sell your cotton, manufactured goods and pottery.&#10;5) Loan - Take a &pound;30 loan and reduce your income.&#10;&#10;Brass: Birmingham also features a new sixth action:&#10;&#10;6) Scout - Discard three cards and take a wild location and wild industry card. (This action replaces Double Action Build in original Brass.)&#10;&#10;The game is played over two halves: the canal era (years 1770-1830) and the rail era (years 1830-1870). To win the game, score the most VPs. VPs are counted at the end of each half for the canals, rails and established (flipped) industry tiles.&#10;&#10;Birmingham features dynamic scoring canals/rails. Instead of each flipped industry tile giving a static 1 VP to all connected canals and rails, many industries give 0 or even 2 VPs. This provides players with the opportunity to score much higher value canals in the first era, and creates interesting strategy with industry placement.&#10;&#10;Iron, coal, and cotton are three industries which appear in both the original Brass as well as in Brass: Birmingham.&#10;&#10;New &quot;Sell&quot; system&#10;&#10;Brewing has become a fundamental part of the culture in Birmingham. You must now sell your product through traders located around the edges of the board. Each of these traders is looking for a specific type of good each game. To sell cotton, pottery, or manufactured goods to these traders, you must also &quot;grease the wheels of industry&quot; by consuming beer. For example, a level 1 cotton mill requires one beer to flip. As an incentive to sell early, the first player to sell to a trader receives free beer.&#10;&#10;Birmingham features three all-new industry types:&#10;&#10;Brewery - Produces precious beer barrels required to sell goods.&#10;&#10;Manufactured goods - Function like cotton, but features eight levels. Each level of manufactured goods provides unique rewards, rather than just escalating in VPs, making it a more versatile (yet potentially more difficult) path vs cotton.&#10;&#10;Pottery - These behemoths of Birmingham offer huge VPs, but at a huge cost and need to plan.&#10;&#10;Increased Coal and Iron Market size - The price of coal and iron can now go up to &pound;8 per cube, and it's not uncommon.&#10;&#10;Brass: Birmingham is a sequel to Brass. It offers a very different story arc and experience from its predecessor.&#10;&#10;\""
      ]
     },
     "execution_count": 107,
     "metadata": {},
     "output_type": "execute_result"
    }
   ],
   "source": [
    "## Get the long (ish) description\n",
    "data_dict['items']['item']['description']"
   ]
  },
  {
   "cell_type": "code",
   "execution_count": 170,
   "metadata": {},
   "outputs": [
    {
     "data": {
      "text/plain": [
       "'3.8983'"
      ]
     },
     "execution_count": 170,
     "metadata": {},
     "output_type": "execute_result"
    }
   ],
   "source": [
    "## Get the complexity score\n",
    "data_dict['items']['item']['statistics']['ratings']['averageweight']['@value']"
   ]
  },
  {
   "cell_type": "code",
   "execution_count": 179,
   "metadata": {},
   "outputs": [
    {
     "name": "stdout",
     "output_type": "stream",
     "text": [
      "boardgamefamily\n",
      "boardgamefamily\n",
      "boardgamefamily\n",
      "boardgamefamily\n",
      "boardgamefamily\n",
      "boardgamefamily\n",
      "boardgamefamily\n",
      "boardgamefamily\n",
      "boardgamefamily\n",
      "boardgamefamily\n",
      "boardgamefamily\n",
      "boardgamefamily\n",
      "boardgamefamily\n",
      "boardgameaccessory\n",
      "boardgameaccessory\n",
      "boardgameaccessory\n",
      "boardgameaccessory\n",
      "boardgameaccessory\n",
      "boardgameaccessory\n",
      "boardgameaccessory\n",
      "boardgameaccessory\n",
      "boardgameaccessory\n",
      "boardgameaccessory\n",
      "boardgameaccessory\n",
      "boardgameaccessory\n",
      "boardgameaccessory\n",
      "boardgameaccessory\n"
     ]
    }
   ],
   "source": [
    "categories = []\n",
    "mechanics = []\n",
    "publishers = []\n",
    "artists = []\n",
    "designers = []\n",
    "other_implementations = []\n",
    "families = []\n",
    "for data in data_dict['items']['item']['link']:\n",
    "    match data['@type']:\n",
    "        case \"boardgamecategory\":\n",
    "            categories.append(data['@value'])\n",
    "        case \"boardgamemechanic\":\n",
    "            mechanics.append(data['@value'])\n",
    "        case 'boardgamepublisher':\n",
    "            publishers.append(data['@value'])\n",
    "        case 'boardgamedesigner':\n",
    "            designers.append(data['@value'])\n",
    "        case 'boardgameartist':\n",
    "            artists.append(data['@value'])\n",
    "        case 'boardgameimplementation':\n",
    "            other_implementations.append(data['@id'])\n",
    "        case 'boardgamefamily':\n",
    "            families.append(data['@value'])\n",
    "        case _:\n",
    "            print(data['@type'])\n"
   ]
  },
  {
   "cell_type": "code",
   "execution_count": 118,
   "metadata": {},
   "outputs": [
    {
     "data": {
      "text/plain": [
       "['865', '126', '43']"
      ]
     },
     "execution_count": 118,
     "metadata": {},
     "output_type": "execute_result"
    }
   ],
   "source": [
    "[d['@totalvotes'] for d in data_dict['items']['item']['poll']]"
   ]
  },
  {
   "cell_type": "code",
   "execution_count": null,
   "metadata": {},
   "outputs": [],
   "source": []
  }
 ],
 "metadata": {
  "kernelspec": {
   "display_name": "Python 3",
   "language": "python",
   "name": "python3"
  },
  "language_info": {
   "codemirror_mode": {
    "name": "ipython",
    "version": 3
   },
   "file_extension": ".py",
   "mimetype": "text/x-python",
   "name": "python",
   "nbconvert_exporter": "python",
   "pygments_lexer": "ipython3",
   "version": "3.10.6"
  },
  "orig_nbformat": 4
 },
 "nbformat": 4,
 "nbformat_minor": 2
}
